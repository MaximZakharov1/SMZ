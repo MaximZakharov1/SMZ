{
 "cells": [
  {
   "cell_type": "code",
   "execution_count": 1,
   "id": "404b52ce",
   "metadata": {},
   "outputs": [],
   "source": [
    "import numpy as np\n",
    "import torch\n",
    "import torch.nn as nn"
   ]
  },
  {
   "cell_type": "code",
   "execution_count": 88,
   "id": "7e2bbcd0",
   "metadata": {},
   "outputs": [],
   "source": [
    "def convtranspose2d(input_data, weight, bias=None, stride=1, padding=0, output_padding=0):\n",
    "    # Определяем размеры входных данных\n",
    "    input_height, input_width = input_data.shape\n",
    "    output_height, output_width = (input_height-1)*stride - 2*padding + weight.shape[2] + output_padding, (input_width-1)*stride - 2*padding + weight.shape[3] + output_padding\n",
    "    \n",
    "    # Создаем выходной массив\n",
    "    output = np.zeros((output_height, output_width))\n",
    "    \n",
    "    # Добавляем padding\n",
    "    padded_input = np.pad(input_data, ((padding, padding), (padding, padding)), mode='constant')\n",
    "    \n",
    "    # Производим транспонированную свертку\n",
    "    for i in range(0, input_height):\n",
    "        for j in range(0, input_width):\n",
    "            output[i*stride:i*stride+weight.shape[2], j*stride:j*stride+weight.shape[3]] += weight[0, 0] * input_data[i, j]\n",
    "    \n",
    "    # Добавляем bias, если он указан\n",
    "    if bias is not None:\n",
    "        output += bias\n",
    "    \n",
    "    return output"
   ]
  },
  {
   "cell_type": "code",
   "execution_count": 105,
   "id": "774758fb",
   "metadata": {},
   "outputs": [],
   "source": [
    "def test_convtranspose2d(input_data, weight, bias):\n",
    "    stride = 2\n",
    "    padding = 1\n",
    "    output_padding = 1\n",
    "\n",
    "    output_your_function = convtranspose2d(input_data, weight, bias, stride, padding, output_padding)\n",
    "    \n",
    "    input_tensor = torch.from_numpy(input_data).unsqueeze(0).unsqueeze(0)  # Преобразование входных данных в тензор PyTorch\n",
    "    weight_tensor = torch.from_numpy(weight).permute(3, 2, 0, 1)  # Преобразование весов в тензор PyTorch\n",
    "    bias_tensor = torch.from_numpy(bias) if bias is not None else None  # Преобразование bias в тензор PyTorch\n",
    "\n",
    "    conv_transpose = torch.nn.ConvTranspose2d(1, 16, 3, stride=stride, padding=padding, output_padding=output_padding)\n",
    "    conv_transpose.weight.data = weight_tensor\n",
    "    if bias is not None:\n",
    "        conv_transpose.bias.data = bias_tensor\n",
    "    \n",
    "    output_pytorch = conv_transpose(input_tensor).squeeze().detach().numpy()  # Результат работы pytorch.CONVTRANSPOSE2D\n",
    "\n",
    "    assert np.allclose(output_your_function, output_pytorch, rtol=1e-4, atol=1e-4), \"Тест провален!\"\n",
    "    \n",
    "    print(\"Тест пройден успешно!\")"
   ]
  },
  {
   "cell_type": "code",
   "execution_count": 108,
   "id": "ec73a114",
   "metadata": {},
   "outputs": [
    {
     "name": "stdout",
     "output_type": "stream",
     "text": [
      "Тест пройден успешно!\n"
     ]
    }
   ],
   "source": [
    "test_convtranspose2d(np.random.rand(28, 28), np.random.rand(16, 16, 3, 3), np.random.rand(16, 16))"
   ]
  },
  {
   "cell_type": "code",
   "execution_count": 109,
   "id": "37c67149",
   "metadata": {},
   "outputs": [
    {
     "name": "stdout",
     "output_type": "stream",
     "text": [
      "Тест пройден успешно!\n"
     ]
    }
   ],
   "source": [
    "test_convtranspose2d(np.random.rand(32, 32), np.random.rand(8, 8, 3, 3), np.random.rand(8, 8))"
   ]
  },
  {
   "cell_type": "code",
   "execution_count": 112,
   "id": "37b9a2c9",
   "metadata": {},
   "outputs": [
    {
     "name": "stdout",
     "output_type": "stream",
     "text": [
      "Тест пройден успешно!\n"
     ]
    }
   ],
   "source": [
    "test_convtranspose2d(np.random.rand(20, 20), np.random.rand(5, 5, 3, 3), bias = None)"
   ]
  },
  {
   "cell_type": "markdown",
   "id": "f0edf815",
   "metadata": {},
   "source": [
    "## Доп. задание"
   ]
  },
  {
   "cell_type": "code",
   "execution_count": 98,
   "id": "56c92344",
   "metadata": {},
   "outputs": [],
   "source": [
    "class MyConvTranspose2D:\n",
    "    def __init__(self, in_channels, out_channels, kernel_size, stride=1, padding=0, output_padding=0):\n",
    "        self.in_channels = in_channels\n",
    "        self.out_channels = out_channels\n",
    "        self.kernel_size = kernel_size\n",
    "        self.stride = stride\n",
    "        self.padding = padding\n",
    "        self.output_padding = output_padding\n",
    "        self.weight = np.random.rand(out_channels, in_channels, kernel_size, kernel_size)\n",
    "    \n",
    "    def forward(self, input):\n",
    "        batch_size, in_channels, input_height, input_width = input.shape\n",
    "        \n",
    "        # Calculate output size\n",
    "        output_height = (input_height - 1) * self.stride - 2*self.padding + self.kernel_size + self.output_padding\n",
    "        output_width = (input_width - 1) * self.stride - 2*self.padding + self.kernel_size + self.output_padding\n",
    "        \n",
    "        output = np.zeros((batch_size, self.out_channels, output_height, output_width))\n",
    "        \n",
    "        for b in range(batch_size):\n",
    "            for oc in range(self.out_channels):\n",
    "                for ic in range(self.in_channels):\n",
    "                    for i in range(output_height):\n",
    "                        for j in range(output_width):\n",
    "                            for k in range(self.kernel_size):\n",
    "                                for l in range(self.kernel_size):\n",
    "                                    x = i + k - self.padding\n",
    "                                    y = j + l - self.padding\n",
    "                                    if x % self.stride == 0 and y % self.stride == 0 and x >= 0 and x < input_height*self.stride and y >=0 and y < input_width*self.stride:\n",
    "                                        output[b, oc, i, j] += input[b, ic, x // self.stride, y // self.stride] * self.weight[oc, ic, k, l]\n",
    "        \n",
    "        return output"
   ]
  },
  {
   "cell_type": "code",
   "execution_count": 99,
   "id": "9c6f558c",
   "metadata": {},
   "outputs": [],
   "source": [
    "def test_convT(in_channels, out_channels, kernel_size, stride, padding):\n",
    "    # Создаем случайные входные данные\n",
    "    input_data = np.random.rand(1, 3, 4, 4)\n",
    "    input_torch = torch.tensor(input_data)\n",
    "    input_np = np.transpose(input_data, (0, 2, 3, 1))  # меняем порядок размерностей для компатимости с PyTorch\n",
    "    \n",
    "    # Создаем экземпляр нашего класса и класса из PyTorch\n",
    "    convT_custom = MyConvTranspose2D(in_channels, out_channels, kernel_size, stride, padding)\n",
    "    convT_torch = nn.ConvTranspose2d(n_channels, out_channels, kernel_size, stride=stride, padding=padding)\n",
    "    \n",
    "    # Копируем веса из PyTorch в наш класс\n",
    "    convT_custom.weight = convT_torch.weight.detach().numpy()\n",
    "    \n",
    "    # Выполняем транспонированную свертку с помощью обоих классов\n",
    "    output_custom = convT_custom.forward(input_np)\n",
    "    output_custom_torch = convT_torch(input_torch).detach().numpy()\n",
    "    \n",
    "    # Сравниваем результаты\n",
    "    assert np.allclose(output_custom, output_custom_torch, rtol=1e-5), \"Тест провален!\"\n",
    "    \n",
    "    print(\"Тест пройден успешно!\")"
   ]
  },
  {
   "cell_type": "code",
   "execution_count": 102,
   "id": "ef83f5bd",
   "metadata": {},
   "outputs": [
    {
     "name": "stdout",
     "output_type": "stream",
     "text": [
      "Тест пройден успешно!\n"
     ]
    }
   ],
   "source": [
    "test_convT(3, 2, 3, 1, 1)"
   ]
  },
  {
   "cell_type": "code",
   "execution_count": 103,
   "id": "2400bdfa",
   "metadata": {},
   "outputs": [
    {
     "name": "stdout",
     "output_type": "stream",
     "text": [
      "Тест пройден успешно!\n"
     ]
    }
   ],
   "source": [
    "test_convT(6, 32, 2, 1, 3)"
   ]
  },
  {
   "cell_type": "code",
   "execution_count": 104,
   "id": "a18646e6",
   "metadata": {},
   "outputs": [
    {
     "name": "stdout",
     "output_type": "stream",
     "text": [
      "Тест пройден успешно!\n"
     ]
    }
   ],
   "source": [
    "test_convT(4, 16, 4, 2, 4)"
   ]
  },
  {
   "cell_type": "code",
   "execution_count": null,
   "id": "ab125d96",
   "metadata": {},
   "outputs": [],
   "source": []
  }
 ],
 "metadata": {
  "kernelspec": {
   "display_name": "Python 3 (ipykernel)",
   "language": "python",
   "name": "python3"
  },
  "language_info": {
   "codemirror_mode": {
    "name": "ipython",
    "version": 3
   },
   "file_extension": ".py",
   "mimetype": "text/x-python",
   "name": "python",
   "nbconvert_exporter": "python",
   "pygments_lexer": "ipython3",
   "version": "3.9.13"
  }
 },
 "nbformat": 4,
 "nbformat_minor": 5
}
