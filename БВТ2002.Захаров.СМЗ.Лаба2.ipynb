{
 "cells": [
  {
   "cell_type": "code",
   "execution_count": 41,
   "id": "ebe84540",
   "metadata": {},
   "outputs": [],
   "source": [
    "import numpy as np\n",
    "import torch\n",
    "import torch.nn as nn"
   ]
  },
  {
   "cell_type": "code",
   "execution_count": 40,
   "id": "d9b2991a",
   "metadata": {},
   "outputs": [],
   "source": [
    "class MyConv3D:\n",
    "    def __init__(self, in_channels, out_channels, kernel_size, stride=1, padding=0):\n",
    "        # Инициализация параметров свертки\n",
    "        self.in_channels = in_channels\n",
    "        self.out_channels = out_channels\n",
    "        self.kernel_size = kernel_size\n",
    "        self.stride = stride\n",
    "        self.padding = padding\n",
    "        \n",
    "        # Инициализация весов и смещений случайными значениями\n",
    "        self.weights = np.random.randn(out_channels, in_channels, kernel_size, kernel_size, kernel_size)\n",
    "        self.bias = np.random.randn(out_channels)\n",
    "\n",
    "    def forward(self, x):\n",
    "        batch_size, in_channels, in_depth, in_height, in_width = x.shape # Получаем размеры входного тензора (NCDHW)\n",
    "        \n",
    "        # Рассчитываем размеры выходного тензора\n",
    "        out_depth = (in_depth - self.kernel_size + 2 * self.padding) // self.stride + 1\n",
    "        out_height = (in_height - self.kernel_size + 2 * self.padding) // self.stride + 1\n",
    "        out_width = (in_width - self.kernel_size + 2 * self.padding) // self.stride + 1\n",
    "        \n",
    "        # Добавляем отступы к входным данным\n",
    "        out = np.zeros((batch_size, self.out_channels, out_depth, out_height, out_width))\n",
    "\n",
    "        # массив для выходных данных\n",
    "        padded_input = np.pad(x, ((0, 0), (0, 0), (self.padding, self.padding), (self.padding, self.padding), (self.padding, self.padding)), mode='constant')\n",
    "\n",
    "        # Выполняем свертку\n",
    "        for d in range(out_depth):\n",
    "            for h in range(out_height):\n",
    "                for w in range(out_width):\n",
    "                    receptive_field = padded_input[:, :, d * self.stride : d * self.stride + self.kernel_size,\n",
    "                                                   h * self.stride : h * self.stride + self.kernel_size,\n",
    "                                                   w * self.stride : w * self.stride + self.kernel_size]\n",
    "                    # Используем tensordot для свертки и добавляем смещение\n",
    "                    out[:, :, d, h, w] = np.tensordot(receptive_field, self.weights, axes=([1, 2, 3, 4], [1, 2, 3, 4])) + self.bias\n",
    "\n",
    "        return out"
   ]
  },
  {
   "cell_type": "code",
   "execution_count": 31,
   "id": "185eb107",
   "metadata": {},
   "outputs": [],
   "source": [
    "def test_conv3d(in_channels, out_channels, kernel_size, stride, padding):\n",
    "    # Генерация случайных входных данных\n",
    "    batch_size = 1\n",
    "    in_depth, in_height, in_width = 64, 64, 64\n",
    "    input_data = np.random.randn(batch_size, in_channels, in_depth, in_height, in_width)\n",
    "\n",
    "    # Инициализация MyConv3D\n",
    "    my_conv3d = MyConv3D(in_channels, out_channels, kernel_size, stride, padding)\n",
    "    my_output = my_conv3d.forward(input_data)\n",
    "\n",
    "    # Инициализация PyTorch Conv3d\n",
    "    torch_conv3d = nn.Conv3d(in_channels, out_channels, kernel_size, stride=stride, padding=padding)\n",
    "    torch_conv3d.weight.data = torch.from_numpy(my_conv3d.weights)\n",
    "    torch_conv3d.bias.data = torch.from_numpy(my_conv3d.bias)\n",
    "    torch_output = torch_conv3d(torch.tensor(input_data))\n",
    "\n",
    "    # Сравнение выходных данных\n",
    "    assert np.allclose(my_output, torch_output.detach().numpy()), \"Тест провален!\"\n",
    "    \n",
    "    print(\"Тест пройден успешно!\")"
   ]
  },
  {
   "cell_type": "code",
   "execution_count": 43,
   "id": "510a663d",
   "metadata": {},
   "outputs": [
    {
     "name": "stdout",
     "output_type": "stream",
     "text": [
      "Тест пройден успешно!\n"
     ]
    }
   ],
   "source": [
    "# Проверка базового случая\n",
    "test_conv3d(3, 10, 3, 1, 1)"
   ]
  },
  {
   "cell_type": "code",
   "execution_count": 44,
   "id": "ae345d9c",
   "metadata": {},
   "outputs": [
    {
     "name": "stdout",
     "output_type": "stream",
     "text": [
      "Тест пройден успешно!\n"
     ]
    }
   ],
   "source": [
    "# Проверка при другом размере ядра\n",
    "test_conv3d(2, 5, 5, 1, 1)"
   ]
  },
  {
   "cell_type": "code",
   "execution_count": 45,
   "id": "b80d899c",
   "metadata": {},
   "outputs": [
    {
     "name": "stdout",
     "output_type": "stream",
     "text": [
      "Тест пройден успешно!\n"
     ]
    }
   ],
   "source": [
    "# Проверка на большем отступе\n",
    "test_conv3d(3, 1, 3, 2, 2)"
   ]
  },
  {
   "cell_type": "code",
   "execution_count": 46,
   "id": "7ffee2d5",
   "metadata": {},
   "outputs": [
    {
     "name": "stdout",
     "output_type": "stream",
     "text": [
      "Тест пройден успешно!\n"
     ]
    }
   ],
   "source": [
    "# Проверка при большем количестве каналов\n",
    "test_conv3d(4, 8, 3, 1, 0)"
   ]
  },
  {
   "cell_type": "code",
   "execution_count": null,
   "id": "35285180",
   "metadata": {},
   "outputs": [],
   "source": []
  }
 ],
 "metadata": {
  "kernelspec": {
   "display_name": "Python 3 (ipykernel)",
   "language": "python",
   "name": "python3"
  },
  "language_info": {
   "codemirror_mode": {
    "name": "ipython",
    "version": 3
   },
   "file_extension": ".py",
   "mimetype": "text/x-python",
   "name": "python",
   "nbconvert_exporter": "python",
   "pygments_lexer": "ipython3",
   "version": "3.9.13"
  }
 },
 "nbformat": 4,
 "nbformat_minor": 5
}
